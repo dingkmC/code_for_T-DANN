{
 "cells": [
  {
   "cell_type": "code",
   "execution_count": 1,
   "metadata": {},
   "outputs": [],
   "source": [
    "session1 = [\"1_20131027.npy\",\"2_20140404.npy\",\"3_20140603.npy\",\"4_20140621.npy\",\"5_20140411.npy\",\n",
    "           \"6_20130712.npy\",\"7_20131027.npy\",\"8_20140511.npy\",\"9_20140620.npy\",\"10_20131130.npy\",\n",
    "           \"11_20140618.npy\",\"12_20131127.npy\",\"13_20140527.npy\",\"14_20140601.npy\",\"15_20130709.npy\"]"
   ]
  },
  {
   "cell_type": "code",
   "execution_count": 2,
   "metadata": {},
   "outputs": [
    {
     "name": "stdout",
     "output_type": "stream",
     "text": [
      "Namespace(F=3, all_use='no', batch_size=128, checkpoint_dir='checkpoint', eval_only=False, label1='label_sub.npy', label2='label_sub.npy', lr=0.0002, max_epoch=300, no_cuda=False, num_k=4, one_step=False, optimizer='adam', resume_epoch=100, save_epoch=10, save_model=True, source='15_20130709.npy', target='1_20131027.npy')\n",
      "15_20130709.npy\n",
      "dataset loading\n",
      "load finished!\n",
      "./main.py:252: UserWarning: Implicit dimension choice for softmax has been deprecated. Change the call to include dim=X as an argument.\n",
      "  return torch.mean(torch.abs(F.softmax(out1) - F.softmax(out2)))\n",
      "max accuracy is  tensor(66.3603)\n",
      "Namespace(F=3, all_use='no', batch_size=128, checkpoint_dir='checkpoint', eval_only=False, label1='label_sub.npy', label2='label_sub.npy', lr=0.0002, max_epoch=300, no_cuda=False, num_k=4, one_step=False, optimizer='adam', resume_epoch=100, save_epoch=10, save_model=True, source='2_20140404.npy', target='1_20131027.npy')\n",
      "2_20140404.npy\n",
      "dataset loading\n",
      "load finished!\n",
      "./main.py:252: UserWarning: Implicit dimension choice for softmax has been deprecated. Change the call to include dim=X as an argument.\n",
      "  return torch.mean(torch.abs(F.softmax(out1) - F.softmax(out2)))\n",
      "max accuracy is  tensor(83.4099)\n"
     ]
    }
   ],
   "source": [
    "## 15->1\n",
    "\n",
    "!python ./main.py --source='15_20130709.npy'  --target='1_20131027.npy' \n",
    "\n",
    "## 2->1\n",
    "\n",
    "!python ./main.py --source='2_20140404.npy'  --target='1_20131027.npy'"
   ]
  },
  {
   "cell_type": "code",
   "execution_count": 3,
   "metadata": {},
   "outputs": [
    {
     "name": "stdout",
     "output_type": "stream",
     "text": [
      "Namespace(F=3, all_use='no', batch_size=128, checkpoint_dir='checkpoint', eval_only=False, label1='label_sub.npy', label2='label_sub.npy', lr=0.0002, max_epoch=300, no_cuda=False, num_k=4, one_step=False, optimizer='adam', resume_epoch=100, save_epoch=10, save_model=True, source='3_20140603.npy', target='2_20140404.npy')\n",
      "3_20140603.npy\n",
      "dataset loading\n",
      "load finished!\n",
      "./main.py:252: UserWarning: Implicit dimension choice for softmax has been deprecated. Change the call to include dim=X as an argument.\n",
      "  return torch.mean(torch.abs(F.softmax(out1) - F.softmax(out2)))\n",
      "max accuracy is  tensor(87.0404)\n",
      "Namespace(F=3, all_use='no', batch_size=128, checkpoint_dir='checkpoint', eval_only=False, label1='label_sub.npy', label2='label_sub.npy', lr=0.0002, max_epoch=300, no_cuda=False, num_k=4, one_step=False, optimizer='adam', resume_epoch=100, save_epoch=10, save_model=True, source='1_20131027.npy', target='2_20140404.npy')\n",
      "1_20131027.npy\n",
      "dataset loading\n",
      "load finished!\n",
      "./main.py:252: UserWarning: Implicit dimension choice for softmax has been deprecated. Change the call to include dim=X as an argument.\n",
      "  return torch.mean(torch.abs(F.softmax(out1) - F.softmax(out2)))\n",
      "max accuracy is  tensor(86.0294)\n"
     ]
    }
   ],
   "source": [
    "## 3->2\n",
    "\n",
    "!python ./main.py --source='3_20140603.npy'  --target='2_20140404.npy' \n",
    "\n",
    "## 1->2\n",
    "\n",
    "!python ./main.py --source='1_20131027.npy'  --target='2_20140404.npy' "
   ]
  },
  {
   "cell_type": "code",
   "execution_count": 4,
   "metadata": {},
   "outputs": [
    {
     "name": "stdout",
     "output_type": "stream",
     "text": [
      "Namespace(F=3, all_use='no', batch_size=128, checkpoint_dir='checkpoint', eval_only=False, label1='label_sub.npy', label2='label_sub.npy', lr=0.0002, max_epoch=300, no_cuda=False, num_k=4, one_step=False, optimizer='adam', resume_epoch=100, save_epoch=10, save_model=True, source='2_20140404.npy', target='3_20140603.npy')\n",
      "2_20140404.npy\n",
      "dataset loading\n",
      "load finished!\n",
      "./main.py:252: UserWarning: Implicit dimension choice for softmax has been deprecated. Change the call to include dim=X as an argument.\n",
      "  return torch.mean(torch.abs(F.softmax(out1) - F.softmax(out2)))\n",
      "max accuracy is  tensor(93.3824)\n",
      "Namespace(F=3, all_use='no', batch_size=128, checkpoint_dir='checkpoint', eval_only=False, label1='label_sub.npy', label2='label_sub.npy', lr=0.0002, max_epoch=300, no_cuda=False, num_k=4, one_step=False, optimizer='adam', resume_epoch=100, save_epoch=10, save_model=True, source='4_20140621.npy', target='3_20140603.npy')\n",
      "4_20140621.npy\n",
      "dataset loading\n",
      "load finished!\n",
      "./main.py:252: UserWarning: Implicit dimension choice for softmax has been deprecated. Change the call to include dim=X as an argument.\n",
      "  return torch.mean(torch.abs(F.softmax(out1) - F.softmax(out2)))\n",
      "max accuracy is  tensor(88.2353)\n"
     ]
    }
   ],
   "source": [
    "## 2->3\n",
    "\n",
    "!python ./main.py --source='2_20140404.npy'  --target='3_20140603.npy'\n",
    "\n",
    "## 4->3\n",
    "\n",
    "!python ./main.py --source='4_20140621.npy'  --target='3_20140603.npy' "
   ]
  },
  {
   "cell_type": "code",
   "execution_count": 5,
   "metadata": {},
   "outputs": [
    {
     "name": "stdout",
     "output_type": "stream",
     "text": [
      "Namespace(F=3, all_use='no', batch_size=128, checkpoint_dir='checkpoint', eval_only=False, label1='label_sub.npy', label2='label_sub.npy', lr=0.0002, max_epoch=300, no_cuda=False, num_k=4, one_step=False, optimizer='adam', resume_epoch=100, save_epoch=10, save_model=True, source='3_20140603.npy', target='4_20140621.npy')\n",
      "3_20140603.npy\n",
      "dataset loading\n",
      "load finished!\n",
      "./main.py:252: UserWarning: Implicit dimension choice for softmax has been deprecated. Change the call to include dim=X as an argument.\n",
      "  return torch.mean(torch.abs(F.softmax(out1) - F.softmax(out2)))\n",
      "max accuracy is  tensor(83.0882)\n",
      "Namespace(F=3, all_use='no', batch_size=128, checkpoint_dir='checkpoint', eval_only=False, label1='label_sub.npy', label2='label_sub.npy', lr=0.0002, max_epoch=300, no_cuda=False, num_k=4, one_step=False, optimizer='adam', resume_epoch=100, save_epoch=10, save_model=True, source='5_20140411.npy', target='4_20140621.npy')\n",
      "5_20140411.npy\n",
      "dataset loading\n",
      "load finished!\n",
      "./main.py:252: UserWarning: Implicit dimension choice for softmax has been deprecated. Change the call to include dim=X as an argument.\n",
      "  return torch.mean(torch.abs(F.softmax(out1) - F.softmax(out2)))\n",
      "max accuracy is  tensor(93.1985)\n"
     ]
    }
   ],
   "source": [
    "## 3->4\n",
    "\n",
    "!python ./main.py --source='3_20140603.npy'  --target='4_20140621.npy' \n",
    "\n",
    "## 5->4\n",
    "\n",
    "!python ./main.py --source='5_20140411.npy'  --target='4_20140621.npy' "
   ]
  },
  {
   "cell_type": "code",
   "execution_count": 6,
   "metadata": {},
   "outputs": [
    {
     "name": "stdout",
     "output_type": "stream",
     "text": [
      "Namespace(F=3, all_use='no', batch_size=128, checkpoint_dir='checkpoint', eval_only=False, label1='label_sub.npy', label2='label_sub.npy', lr=0.0002, max_epoch=300, no_cuda=False, num_k=4, one_step=False, optimizer='adam', resume_epoch=100, save_epoch=10, save_model=True, source='4_20140621.npy', target='5_20140411.npy')\n",
      "4_20140621.npy\n",
      "dataset loading\n",
      "load finished!\n",
      "./main.py:252: UserWarning: Implicit dimension choice for softmax has been deprecated. Change the call to include dim=X as an argument.\n",
      "  return torch.mean(torch.abs(F.softmax(out1) - F.softmax(out2)))\n",
      "max accuracy is  tensor(87.7757)\n",
      "Namespace(F=3, all_use='no', batch_size=128, checkpoint_dir='checkpoint', eval_only=False, label1='label_sub.npy', label2='label_sub.npy', lr=0.0002, max_epoch=300, no_cuda=False, num_k=4, one_step=False, optimizer='adam', resume_epoch=100, save_epoch=10, save_model=True, source='6_20130712.npy', target='5_20140411.npy')\n",
      "6_20130712.npy\n",
      "dataset loading\n",
      "load finished!\n",
      "./main.py:252: UserWarning: Implicit dimension choice for softmax has been deprecated. Change the call to include dim=X as an argument.\n",
      "  return torch.mean(torch.abs(F.softmax(out1) - F.softmax(out2)))\n",
      "max accuracy is  tensor(85.5699)\n"
     ]
    }
   ],
   "source": [
    "## 4->5\n",
    "\n",
    "!python ./main.py --source='4_20140621.npy'  --target='5_20140411.npy' \n",
    "\n",
    "## 6->5\n",
    "\n",
    "!python ./main.py --source='6_20130712.npy'  --target='5_20140411.npy' "
   ]
  },
  {
   "cell_type": "code",
   "execution_count": 7,
   "metadata": {},
   "outputs": [
    {
     "name": "stdout",
     "output_type": "stream",
     "text": [
      "Namespace(F=3, all_use='no', batch_size=128, checkpoint_dir='checkpoint', eval_only=False, label1='label_sub.npy', label2='label_sub.npy', lr=0.0002, max_epoch=300, no_cuda=False, num_k=4, one_step=False, optimizer='adam', resume_epoch=100, save_epoch=10, save_model=True, source='5_20140411.npy', target='6_20130712.npy')\n",
      "5_20140411.npy\n",
      "dataset loading\n",
      "load finished!\n",
      "./main.py:252: UserWarning: Implicit dimension choice for softmax has been deprecated. Change the call to include dim=X as an argument.\n",
      "  return torch.mean(torch.abs(F.softmax(out1) - F.softmax(out2)))\n",
      "max accuracy is  tensor(75.1379)\n",
      "Namespace(F=3, all_use='no', batch_size=128, checkpoint_dir='checkpoint', eval_only=False, label1='label_sub.npy', label2='label_sub.npy', lr=0.0002, max_epoch=300, no_cuda=False, num_k=4, one_step=False, optimizer='adam', resume_epoch=100, save_epoch=10, save_model=True, source='7_20131027.npy', target='6_20130712.npy')\n",
      "7_20131027.npy\n",
      "dataset loading\n",
      "load finished!\n",
      "./main.py:252: UserWarning: Implicit dimension choice for softmax has been deprecated. Change the call to include dim=X as an argument.\n",
      "  return torch.mean(torch.abs(F.softmax(out1) - F.softmax(out2)))\n",
      "max accuracy is  tensor(87.0864)\n"
     ]
    }
   ],
   "source": [
    "## 5->6\n",
    "\n",
    "!python ./main.py --source='5_20140411.npy'  --target='6_20130712.npy' \n",
    "\n",
    "## 7->6\n",
    "\n",
    "!python ./main.py --source='7_20131027.npy'  --target='6_20130712.npy' "
   ]
  },
  {
   "cell_type": "code",
   "execution_count": 8,
   "metadata": {},
   "outputs": [
    {
     "name": "stdout",
     "output_type": "stream",
     "text": [
      "Namespace(F=3, all_use='no', batch_size=128, checkpoint_dir='checkpoint', eval_only=False, label1='label_sub.npy', label2='label_sub.npy', lr=0.0002, max_epoch=300, no_cuda=False, num_k=4, one_step=False, optimizer='adam', resume_epoch=100, save_epoch=10, save_model=True, source='6_20130712.npy', target='7_20131027.npy')\n",
      "6_20130712.npy\n",
      "dataset loading\n",
      "load finished!\n",
      "./main.py:252: UserWarning: Implicit dimension choice for softmax has been deprecated. Change the call to include dim=X as an argument.\n",
      "  return torch.mean(torch.abs(F.softmax(out1) - F.softmax(out2)))\n",
      "max accuracy is  tensor(65.8548)\n",
      "Namespace(F=3, all_use='no', batch_size=128, checkpoint_dir='checkpoint', eval_only=False, label1='label_sub.npy', label2='label_sub.npy', lr=0.0002, max_epoch=300, no_cuda=False, num_k=4, one_step=False, optimizer='adam', resume_epoch=100, save_epoch=10, save_model=True, source='8_20140511.npy', target='7_20131027.npy')\n",
      "8_20140511.npy\n",
      "dataset loading\n",
      "load finished!\n",
      "./main.py:252: UserWarning: Implicit dimension choice for softmax has been deprecated. Change the call to include dim=X as an argument.\n",
      "  return torch.mean(torch.abs(F.softmax(out1) - F.softmax(out2)))\n",
      "max accuracy is  tensor(96.0478)\n"
     ]
    }
   ],
   "source": [
    "## 6->7\n",
    "\n",
    "!python ./main.py --source='6_20130712.npy'  --target='7_20131027.npy' \n",
    "\n",
    "## 8->7\n",
    "\n",
    "!python ./main.py --source='8_20140511.npy'  --target='7_20131027.npy' "
   ]
  },
  {
   "cell_type": "code",
   "execution_count": 9,
   "metadata": {},
   "outputs": [
    {
     "name": "stdout",
     "output_type": "stream",
     "text": [
      "Namespace(F=3, all_use='no', batch_size=128, checkpoint_dir='checkpoint', eval_only=False, label1='label_sub.npy', label2='label_sub.npy', lr=0.0002, max_epoch=300, no_cuda=False, num_k=4, one_step=False, optimizer='adam', resume_epoch=100, save_epoch=10, save_model=True, source='7_20131027.npy', target='8_20140511.npy')\n",
      "7_20131027.npy\n",
      "dataset loading\n",
      "load finished!\n",
      "./main.py:252: UserWarning: Implicit dimension choice for softmax has been deprecated. Change the call to include dim=X as an argument.\n",
      "  return torch.mean(torch.abs(F.softmax(out1) - F.softmax(out2)))\n",
      "max accuracy is  tensor(91.2684)\n",
      "Namespace(F=3, all_use='no', batch_size=128, checkpoint_dir='checkpoint', eval_only=False, label1='label_sub.npy', label2='label_sub.npy', lr=0.0002, max_epoch=300, no_cuda=False, num_k=4, one_step=False, optimizer='adam', resume_epoch=100, save_epoch=10, save_model=True, source='9_20140620.npy', target='8_20140511.npy')\n",
      "9_20140620.npy\n",
      "dataset loading\n",
      "load finished!\n",
      "./main.py:252: UserWarning: Implicit dimension choice for softmax has been deprecated. Change the call to include dim=X as an argument.\n",
      "  return torch.mean(torch.abs(F.softmax(out1) - F.softmax(out2)))\n",
      "max accuracy is  tensor(71.9669)\n"
     ]
    }
   ],
   "source": [
    "## 7->8\n",
    "\n",
    "!python ./main.py --source='7_20131027.npy'  --target='8_20140511.npy'\n",
    "\n",
    "## 9->8\n",
    "\n",
    "!python ./main.py --source='9_20140620.npy'  --target='8_20140511.npy' "
   ]
  },
  {
   "cell_type": "code",
   "execution_count": 10,
   "metadata": {},
   "outputs": [
    {
     "name": "stdout",
     "output_type": "stream",
     "text": [
      "Namespace(F=3, all_use='no', batch_size=128, checkpoint_dir='checkpoint', eval_only=False, label1='label_sub.npy', label2='label_sub.npy', lr=0.0002, max_epoch=300, no_cuda=False, num_k=4, one_step=False, optimizer='adam', resume_epoch=100, save_epoch=10, save_model=True, source='8_20140511.npy', target='9_20140620.npy')\n",
      "8_20140511.npy\n",
      "dataset loading\n",
      "load finished!\n",
      "./main.py:252: UserWarning: Implicit dimension choice for softmax has been deprecated. Change the call to include dim=X as an argument.\n",
      "  return torch.mean(torch.abs(F.softmax(out1) - F.softmax(out2)))\n",
      "max accuracy is  tensor(79.7794)\n",
      "Namespace(F=3, all_use='no', batch_size=128, checkpoint_dir='checkpoint', eval_only=False, label1='label_sub.npy', label2='label_sub.npy', lr=0.0002, max_epoch=300, no_cuda=False, num_k=4, one_step=False, optimizer='adam', resume_epoch=100, save_epoch=10, save_model=True, source='10_20131130.npy', target='9_20140620.npy')\n",
      "10_20131130.npy\n",
      "dataset loading\n",
      "load finished!\n",
      "./main.py:252: UserWarning: Implicit dimension choice for softmax has been deprecated. Change the call to include dim=X as an argument.\n",
      "  return torch.mean(torch.abs(F.softmax(out1) - F.softmax(out2)))\n",
      "max accuracy is  tensor(80.0092)\n"
     ]
    }
   ],
   "source": [
    "## 8->9\n",
    "\n",
    "!python ./main.py --source='8_20140511.npy'  --target='9_20140620.npy' \n",
    "\n",
    "## 10->9\n",
    "\n",
    "!python ./main.py --source='10_20131130.npy'  --target='9_20140620.npy' "
   ]
  },
  {
   "cell_type": "code",
   "execution_count": 11,
   "metadata": {},
   "outputs": [
    {
     "name": "stdout",
     "output_type": "stream",
     "text": [
      "Namespace(F=3, all_use='no', batch_size=128, checkpoint_dir='checkpoint', eval_only=False, label1='label_sub.npy', label2='label_sub.npy', lr=0.0002, max_epoch=300, no_cuda=False, num_k=4, one_step=False, optimizer='adam', resume_epoch=100, save_epoch=10, save_model=True, source='9_20140620.npy', target='10_20131130.npy')\n",
      "9_20140620.npy\n",
      "dataset loading\n",
      "load finished!\n",
      "./main.py:252: UserWarning: Implicit dimension choice for softmax has been deprecated. Change the call to include dim=X as an argument.\n",
      "  return torch.mean(torch.abs(F.softmax(out1) - F.softmax(out2)))\n",
      "max accuracy is  tensor(73.9430)\n",
      "Namespace(F=3, all_use='no', batch_size=128, checkpoint_dir='checkpoint', eval_only=False, label1='label_sub.npy', label2='label_sub.npy', lr=0.0002, max_epoch=300, no_cuda=False, num_k=4, one_step=False, optimizer='adam', resume_epoch=100, save_epoch=10, save_model=True, source='11_20140618.npy', target='10_20131130.npy')\n",
      "11_20140618.npy\n",
      "dataset loading\n",
      "load finished!\n",
      "./main.py:252: UserWarning: Implicit dimension choice for softmax has been deprecated. Change the call to include dim=X as an argument.\n",
      "  return torch.mean(torch.abs(F.softmax(out1) - F.softmax(out2)))\n",
      "max accuracy is  tensor(70.4044)\n"
     ]
    }
   ],
   "source": [
    "## 9->10\n",
    "\n",
    "!python ./main.py --source='9_20140620.npy'  --target='10_20131130.npy' \n",
    "\n",
    "## 11->10\n",
    "\n",
    "!python ./main.py --source='11_20140618.npy'  --target='10_20131130.npy'"
   ]
  },
  {
   "cell_type": "code",
   "execution_count": 12,
   "metadata": {},
   "outputs": [
    {
     "name": "stdout",
     "output_type": "stream",
     "text": [
      "Namespace(F=3, all_use='no', batch_size=128, checkpoint_dir='checkpoint', eval_only=False, label1='label_sub.npy', label2='label_sub.npy', lr=0.0002, max_epoch=300, no_cuda=False, num_k=4, one_step=False, optimizer='adam', resume_epoch=100, save_epoch=10, save_model=True, source='10_20131130.npy', target='11_20140618.npy')\n",
      "10_20131130.npy\n",
      "dataset loading\n",
      "load finished!\n",
      "./main.py:252: UserWarning: Implicit dimension choice for softmax has been deprecated. Change the call to include dim=X as an argument.\n",
      "  return torch.mean(torch.abs(F.softmax(out1) - F.softmax(out2)))\n",
      "max accuracy is  tensor(76.5625)\n",
      "Namespace(F=3, all_use='no', batch_size=128, checkpoint_dir='checkpoint', eval_only=False, label1='label_sub.npy', label2='label_sub.npy', lr=0.0002, max_epoch=300, no_cuda=False, num_k=4, one_step=False, optimizer='adam', resume_epoch=100, save_epoch=10, save_model=True, source='12_20131127.npy', target='11_20140618.npy')\n",
      "12_20131127.npy\n",
      "dataset loading\n",
      "load finished!\n",
      "./main.py:252: UserWarning: Implicit dimension choice for softmax has been deprecated. Change the call to include dim=X as an argument.\n",
      "  return torch.mean(torch.abs(F.softmax(out1) - F.softmax(out2)))\n",
      "max accuracy is  tensor(78.8143)\n"
     ]
    }
   ],
   "source": [
    "## 10->11\n",
    "\n",
    "!python ./main.py --source='10_20131130.npy'  --target='11_20140618.npy' --label1='label_sub.npy'  --label2='label_sub.npy' --max_epoch=300 \n",
    "\n",
    "## 12->11\n",
    "\n",
    "!python ./main.py --source='12_20131127.npy'  --target='11_20140618.npy' --label1='label_sub.npy'  --label2='label_sub.npy' --max_epoch=300 "
   ]
  },
  {
   "cell_type": "code",
   "execution_count": 13,
   "metadata": {},
   "outputs": [
    {
     "name": "stdout",
     "output_type": "stream",
     "text": [
      "Namespace(F=3, all_use='no', batch_size=128, checkpoint_dir='checkpoint', eval_only=False, label1='label_sub.npy', label2='label_sub.npy', lr=0.0002, max_epoch=300, no_cuda=False, num_k=4, one_step=False, optimizer='adam', resume_epoch=100, save_epoch=10, save_model=True, source='11_20140618.npy', target='12_20131127.npy')\n",
      "11_20140618.npy\n",
      "dataset loading\n",
      "load finished!\n",
      "./main.py:252: UserWarning: Implicit dimension choice for softmax has been deprecated. Change the call to include dim=X as an argument.\n",
      "  return torch.mean(torch.abs(F.softmax(out1) - F.softmax(out2)))\n",
      "max accuracy is  tensor(94.9449)\n",
      "Namespace(F=3, all_use='no', batch_size=128, checkpoint_dir='checkpoint', eval_only=False, label1='label_sub.npy', label2='label_sub.npy', lr=0.0002, max_epoch=300, no_cuda=False, num_k=4, one_step=False, optimizer='adam', resume_epoch=100, save_epoch=10, save_model=True, source='13_20140527.npy', target='12_20131127.npy')\n",
      "13_20140527.npy\n",
      "dataset loading\n",
      "load finished!\n",
      "./main.py:252: UserWarning: Implicit dimension choice for softmax has been deprecated. Change the call to include dim=X as an argument.\n",
      "  return torch.mean(torch.abs(F.softmax(out1) - F.softmax(out2)))\n",
      "max accuracy is  tensor(97.4265)\n"
     ]
    }
   ],
   "source": [
    "## 11->12\n",
    "\n",
    "!python ./main.py --source='11_20140618.npy'  --target='12_20131127.npy' --label1='label_sub.npy'  --label2='label_sub.npy' --max_epoch=300 \n",
    "\n",
    "## 13->12\n",
    "\n",
    "!python ./main.py --source='13_20140527.npy'  --target='12_20131127.npy' --label1='label_sub.npy'  --label2='label_sub.npy' --max_epoch=300"
   ]
  },
  {
   "cell_type": "code",
   "execution_count": 14,
   "metadata": {},
   "outputs": [
    {
     "name": "stdout",
     "output_type": "stream",
     "text": [
      "Namespace(F=3, all_use='no', batch_size=128, checkpoint_dir='checkpoint', eval_only=False, label1='label_sub.npy', label2='label_sub.npy', lr=0.0002, max_epoch=300, no_cuda=False, num_k=4, one_step=False, optimizer='adam', resume_epoch=100, save_epoch=10, save_model=True, source='12_20131127.npy', target='13_20140527.npy')\n",
      "12_20131127.npy\n",
      "dataset loading\n",
      "load finished!\n",
      "./main.py:252: UserWarning: Implicit dimension choice for softmax has been deprecated. Change the call to include dim=X as an argument.\n",
      "  return torch.mean(torch.abs(F.softmax(out1) - F.softmax(out2)))\n",
      "max accuracy is  tensor(71.5993)\n",
      "Namespace(F=3, all_use='no', batch_size=128, checkpoint_dir='checkpoint', eval_only=False, label1='label_sub.npy', label2='label_sub.npy', lr=0.0002, max_epoch=300, no_cuda=False, num_k=4, one_step=False, optimizer='adam', resume_epoch=100, save_epoch=10, save_model=True, source='14_20140601.npy', target='13_20140527.npy')\n",
      "14_20140601.npy\n",
      "dataset loading\n",
      "load finished!\n",
      "./main.py:252: UserWarning: Implicit dimension choice for softmax has been deprecated. Change the call to include dim=X as an argument.\n",
      "  return torch.mean(torch.abs(F.softmax(out1) - F.softmax(out2)))\n",
      "max accuracy is  tensor(73.8511)\n"
     ]
    }
   ],
   "source": [
    "## 12->13\n",
    "\n",
    "!python ./main.py --source='12_20131127.npy'  --target='13_20140527.npy' --label1='label_sub.npy'  --label2='label_sub.npy' --max_epoch=300\n",
    "\n",
    "## 14->13\n",
    "\n",
    "!python ./main.py --source='14_20140601.npy'  --target='13_20140527.npy' --label1='label_sub.npy'  --label2='label_sub.npy' --max_epoch=300 "
   ]
  },
  {
   "cell_type": "code",
   "execution_count": 15,
   "metadata": {},
   "outputs": [
    {
     "name": "stdout",
     "output_type": "stream",
     "text": [
      "Namespace(F=3, all_use='no', batch_size=128, checkpoint_dir='checkpoint', eval_only=False, label1='label_sub.npy', label2='label_sub.npy', lr=0.0002, max_epoch=300, no_cuda=False, num_k=4, one_step=False, optimizer='adam', resume_epoch=100, save_epoch=10, save_model=True, source='13_20140527.npy', target='14_20140601.npy')\n",
      "13_20140527.npy\n",
      "dataset loading\n",
      "load finished!\n",
      "./main.py:252: UserWarning: Implicit dimension choice for softmax has been deprecated. Change the call to include dim=X as an argument.\n",
      "  return torch.mean(torch.abs(F.softmax(out1) - F.softmax(out2)))\n",
      "max accuracy is  tensor(77.4357)\n",
      "Namespace(F=3, all_use='no', batch_size=128, checkpoint_dir='checkpoint', eval_only=False, label1='label_sub.npy', label2='label_sub.npy', lr=0.0002, max_epoch=300, no_cuda=False, num_k=4, one_step=False, optimizer='adam', resume_epoch=100, save_epoch=10, save_model=True, source='15_20130709.npy', target='14_20140601.npy')\n",
      "15_20130709.npy\n",
      "dataset loading\n",
      "load finished!\n",
      "./main.py:252: UserWarning: Implicit dimension choice for softmax has been deprecated. Change the call to include dim=X as an argument.\n",
      "  return torch.mean(torch.abs(F.softmax(out1) - F.softmax(out2)))\n",
      "max accuracy is  tensor(75.5055)\n"
     ]
    }
   ],
   "source": [
    "## 13->14\n",
    "\n",
    "!python ./main.py --source='13_20140527.npy'  --target='14_20140601.npy' --label1='label_sub.npy'  --label2='label_sub.npy' --max_epoch=300 \n",
    "\n",
    "## 15->14\n",
    "\n",
    "!python ./main.py --source='15_20130709.npy'  --target='14_20140601.npy' --label1='label_sub.npy'  --label2='label_sub.npy' --max_epoch=300"
   ]
  },
  {
   "cell_type": "code",
   "execution_count": 16,
   "metadata": {},
   "outputs": [
    {
     "name": "stdout",
     "output_type": "stream",
     "text": [
      "Namespace(F=3, all_use='no', batch_size=128, checkpoint_dir='checkpoint', eval_only=False, label1='label_sub.npy', label2='label_sub.npy', lr=0.0002, max_epoch=300, no_cuda=False, num_k=4, one_step=False, optimizer='adam', resume_epoch=100, save_epoch=10, save_model=True, source='14_20140601.npy', target='15_20130709.npy')\n",
      "14_20140601.npy\n",
      "dataset loading\n",
      "load finished!\n",
      "./main.py:252: UserWarning: Implicit dimension choice for softmax has been deprecated. Change the call to include dim=X as an argument.\n",
      "  return torch.mean(torch.abs(F.softmax(out1) - F.softmax(out2)))\n",
      "max accuracy is  tensor(71.0018)\n",
      "Namespace(F=3, all_use='no', batch_size=128, checkpoint_dir='checkpoint', eval_only=False, label1='label_sub.npy', label2='label_sub.npy', lr=0.0002, max_epoch=300, no_cuda=False, num_k=4, one_step=False, optimizer='adam', resume_epoch=100, save_epoch=10, save_model=True, source='1_20131027.npy', target='15_20130709.npy')\n",
      "1_20131027.npy\n",
      "dataset loading\n",
      "load finished!\n",
      "./main.py:252: UserWarning: Implicit dimension choice for softmax has been deprecated. Change the call to include dim=X as an argument.\n",
      "  return torch.mean(torch.abs(F.softmax(out1) - F.softmax(out2)))\n",
      "max accuracy is  tensor(90.9007)\n"
     ]
    }
   ],
   "source": [
    "## 14->15\n",
    "\n",
    "!python ./main.py --source='14_20140601.npy'  --target='15_20130709.npy' --label1='label_sub.npy'  --label2='label_sub.npy' --max_epoch=300 \n",
    "\n",
    "## 1->15\n",
    "\n",
    "!python ./main.py --source='1_20131027.npy'  --target='15_20130709.npy' --label1='label_sub.npy'  --label2='label_sub.npy' --max_epoch=300 "
   ]
  },
  {
   "cell_type": "code",
   "execution_count": null,
   "metadata": {},
   "outputs": [],
   "source": []
  },
  {
   "cell_type": "code",
   "execution_count": null,
   "metadata": {},
   "outputs": [],
   "source": []
  }
 ],
 "metadata": {
  "kernelspec": {
   "display_name": "Python 3",
   "language": "python",
   "name": "python3"
  },
  "language_info": {
   "codemirror_mode": {
    "name": "ipython",
    "version": 3
   },
   "file_extension": ".py",
   "mimetype": "text/x-python",
   "name": "python",
   "nbconvert_exporter": "python",
   "pygments_lexer": "ipython3",
   "version": "3.8.3"
  }
 },
 "nbformat": 4,
 "nbformat_minor": 4
}
